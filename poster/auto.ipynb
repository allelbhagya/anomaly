{
 "cells": [
  {
   "cell_type": "code",
   "execution_count": 3,
   "metadata": {},
   "outputs": [
    {
     "name": "stdout",
     "output_type": "stream",
     "text": [
      "     from   to    cost  predicted_cost  residuals  anomaly\n",
      "0     264  396  20.539        1.483168  19.055832     True\n",
      "1     684  296  19.138        1.494105  17.643895     True\n",
      "2     340  696  19.063        1.391610  17.671390     True\n",
      "3     663  789  17.238        1.350060  15.887940     True\n",
      "4     585   36  14.353        1.574912  12.778088     True\n",
      "..    ...  ...     ...             ...        ...      ...\n",
      "861   627  447   0.135        1.452209  -1.317209    False\n",
      "862   417  476   0.112        1.452916  -1.340916    False\n",
      "863   177   99   0.080        1.574327  -1.494327    False\n",
      "864   689  382   0.079        1.468596  -1.389596    False\n",
      "865    31  347   0.032        1.507822  -1.475822    False\n",
      "\n",
      "[866 rows x 6 columns]\n"
     ]
    }
   ],
   "source": [
    "import pandas as pd\n",
    "from sklearn.linear_model import LinearRegression\n",
    "\n",
    "# Sample data\n",
    "data = pd.read_csv('./PEMS07_sorted.csv')\n",
    "\n",
    "# Create DataFrame\n",
    "df = pd.DataFrame(data)\n",
    "\n",
    "# Prepare the feature matrix (X) and target vector (y)\n",
    "X = df[['from', 'to']]\n",
    "y = df['cost']\n",
    "\n",
    "# Fit multiple linear regression model\n",
    "linear_reg = LinearRegression()\n",
    "linear_reg.fit(X, y)\n",
    "\n",
    "# Predict the costs using the linear regression model\n",
    "y_pred = linear_reg.predict(X)\n",
    "\n",
    "# Calculate the residuals (differences between actual and predicted values)\n",
    "residuals = y - y_pred\n",
    "\n",
    "# Set a threshold for anomaly detection (e.g., 1 standard deviation)\n",
    "threshold = residuals.std()\n",
    "\n",
    "# Mark anomalies based on the threshold\n",
    "anomalies = abs(residuals) > threshold\n",
    "\n",
    "# Add anomaly column to DataFrame\n",
    "df['predicted_cost'] = y_pred\n",
    "df['residuals'] = residuals\n",
    "df['anomaly'] = anomalies\n",
    "\n",
    "print(df)\n"
   ]
  },
  {
   "cell_type": "code",
   "execution_count": 4,
   "metadata": {},
   "outputs": [
    {
     "name": "stdout",
     "output_type": "stream",
     "text": [
      "Silhouette Score for Anomaly Detection: 1.000\n"
     ]
    },
    {
     "name": "stderr",
     "output_type": "stream",
     "text": [
      "/Library/Frameworks/Python.framework/Versions/3.11/lib/python3.11/site-packages/sklearn/cluster/_kmeans.py:1416: FutureWarning: The default value of `n_init` will change from 10 to 'auto' in 1.4. Set the value of `n_init` explicitly to suppress the warning\n",
      "  super()._check_params_vs_input(X, default_n_init=10)\n"
     ]
    }
   ],
   "source": [
    "from sklearn.metrics import silhouette_score\n",
    "from sklearn.cluster import KMeans\n",
    "\n",
    "# Assuming 'anomaly' column contains binary labels (True for anomaly, False for normal)\n",
    "predicted_labels = df['anomaly'].values.astype(int)  # Convert True/False to 1/0\n",
    "\n",
    "# Create two clusters based on predicted anomaly labels\n",
    "kmeans = KMeans(n_clusters=2, random_state=42)\n",
    "clusters = kmeans.fit_predict(predicted_labels.reshape(-1, 1))\n",
    "\n",
    "# Calculate silhouette score\n",
    "silhouette_avg = silhouette_score(predicted_labels.reshape(-1, 1), clusters)\n",
    "print(f'Silhouette Score for Anomaly Detection: {silhouette_avg:.3f}')\n"
   ]
  }
 ],
 "metadata": {
  "kernelspec": {
   "display_name": "Python 3",
   "language": "python",
   "name": "python3"
  },
  "language_info": {
   "codemirror_mode": {
    "name": "ipython",
    "version": 3
   },
   "file_extension": ".py",
   "mimetype": "text/x-python",
   "name": "python",
   "nbconvert_exporter": "python",
   "pygments_lexer": "ipython3",
   "version": "3.11.4"
  }
 },
 "nbformat": 4,
 "nbformat_minor": 2
}
